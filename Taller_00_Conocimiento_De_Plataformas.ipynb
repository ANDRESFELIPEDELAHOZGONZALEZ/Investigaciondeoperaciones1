{
  "nbformat": 4,
  "nbformat_minor": 0,
  "metadata": {
    "colab": {
      "provenance": [],
      "toc_visible": true,
      "authorship_tag": "ABX9TyOTAL7VzDSwm86/lDI3Jt/h",
      "include_colab_link": true
    },
    "kernelspec": {
      "name": "python3",
      "display_name": "Python 3"
    },
    "language_info": {
      "name": "python"
    }
  },
  "cells": [
    {
      "cell_type": "markdown",
      "metadata": {
        "id": "view-in-github",
        "colab_type": "text"
      },
      "source": [
        "<a href=\"https://colab.research.google.com/github/ANDRESFELIPEDELAHOZGONZALEZ/Investigaciondeoperaciones1/blob/main/Taller_00_Conocimiento_De_Plataformas.ipynb\" target=\"_parent\"><img src=\"https://colab.research.google.com/assets/colab-badge.svg\" alt=\"Open In Colab\"/></a>"
      ]
    },
    {
      "cell_type": "markdown",
      "source": [
        "# Esto es un titulo\n",
        "\n",
        "\n"
      ],
      "metadata": {
        "id": "67t1T4ZjVBwW"
      }
    },
    {
      "cell_type": "markdown",
      "source": [
        "#Esto es un subtitulo"
      ],
      "metadata": {
        "id": "RmjoRvdrVcFH"
      }
    },
    {
      "cell_type": "markdown",
      "source": [
        "##Esto es otro subtitulo"
      ],
      "metadata": {
        "id": "qI0-UDdcViZf"
      }
    },
    {
      "cell_type": "code",
      "source": [
        "print(\"Hola, mundo\")\n",
        "\n",
        "\n",
        "()"
      ],
      "metadata": {
        "colab": {
          "base_uri": "https://localhost:8080/"
        },
        "id": "EueB0GONV4lu",
        "outputId": "b05da433-21af-425c-dabb-b947e54d3f33"
      },
      "execution_count": 1,
      "outputs": [
        {
          "output_type": "stream",
          "name": "stdout",
          "text": [
            "Hola, mundo\n"
          ]
        }
      ]
    }
  ]
}